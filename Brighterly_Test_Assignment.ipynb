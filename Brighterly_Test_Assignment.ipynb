{
 "cells": [
  {
   "cell_type": "code",
   "execution_count": 390,
   "id": "844f0885",
   "metadata": {},
   "outputs": [],
   "source": [
    "import pandas as pd \n",
    "import numpy as np\n",
    "from scipy import stats as st"
   ]
  },
  {
   "cell_type": "code",
   "execution_count": 400,
   "id": "b42db6e9",
   "metadata": {},
   "outputs": [],
   "source": [
    "df = pd.read_csv('ds.csv', sep=';')"
   ]
  },
  {
   "cell_type": "code",
   "execution_count": 403,
   "id": "e7252b00",
   "metadata": {},
   "outputs": [],
   "source": [
    "dict_sex = {'m': 'Male', 'f': 'Female'}\n",
    "dict_platform = {6: 'Desktop', 7: 'Mobile'}\n",
    "df = df.rename(columns={'platform_id': 'platform'})"
   ]
  },
  {
   "cell_type": "code",
   "execution_count": 404,
   "id": "774430b3",
   "metadata": {},
   "outputs": [],
   "source": [
    "df['gender'] = df['gender'].replace(dict_sex)\n",
    "df['platform'] = df['platform'].replace(dict_platform)"
   ]
  },
  {
   "cell_type": "code",
   "execution_count": 405,
   "id": "ef83c270",
   "metadata": {},
   "outputs": [],
   "source": [
    "df['time_stamp'] = pd.to_datetime(df['time_stamp'])"
   ]
  },
  {
   "cell_type": "markdown",
   "id": "a9094530",
   "metadata": {},
   "source": [
    "Приберемо з датасету всі дані, що передували початку спліт-тестування:"
   ]
  },
  {
   "cell_type": "code",
   "execution_count": 406,
   "id": "bd801f6d",
   "metadata": {},
   "outputs": [],
   "source": [
    "ds = df[df['time_stamp'] >= '2017-03-24 16:00:00'].copy()\n",
    "ds = ds.sort_values(by='time_stamp')"
   ]
  },
  {
   "cell_type": "code",
   "execution_count": 407,
   "id": "dbb082fc",
   "metadata": {},
   "outputs": [
    {
     "data": {
      "text/plain": [
       "array(['Female', 'Male', ' '], dtype=object)"
      ]
     },
     "execution_count": 407,
     "metadata": {},
     "output_type": "execute_result"
    }
   ],
   "source": [
    "ds['gender'].unique()"
   ]
  },
  {
   "cell_type": "code",
   "execution_count": 408,
   "id": "99ba20a5",
   "metadata": {},
   "outputs": [],
   "source": [
    "ds = ds.loc[ds['gender'] != ' ']"
   ]
  },
  {
   "cell_type": "markdown",
   "id": "2c662c1f",
   "metadata": {},
   "source": [
    "Додаємо колонку, де вказуємо, з якої групи користувач – з тестової (непарний sender_id) чи з базової (парний sender_id)"
   ]
  },
  {
   "cell_type": "code",
   "execution_count": 409,
   "id": "10693282",
   "metadata": {},
   "outputs": [],
   "source": [
    "ds['group'] = ds['sender_id'].apply(lambda x: 'Test' if x % 2 else 'Base')"
   ]
  },
  {
   "cell_type": "code",
   "execution_count": 410,
   "id": "14ed2c5e",
   "metadata": {},
   "outputs": [],
   "source": [
    "ds['segment'] = df['platform'] + ' ' + df['gender'] # Сегментуємо по ОС та гендеру"
   ]
  },
  {
   "cell_type": "code",
   "execution_count": 411,
   "id": "76cded63",
   "metadata": {},
   "outputs": [
    {
     "data": {
      "text/html": [
       "<div>\n",
       "<style scoped>\n",
       "    .dataframe tbody tr th:only-of-type {\n",
       "        vertical-align: middle;\n",
       "    }\n",
       "\n",
       "    .dataframe tbody tr th {\n",
       "        vertical-align: top;\n",
       "    }\n",
       "\n",
       "    .dataframe thead th {\n",
       "        text-align: right;\n",
       "    }\n",
       "</style>\n",
       "<table border=\"1\" class=\"dataframe\">\n",
       "  <thead>\n",
       "    <tr style=\"text-align: right;\">\n",
       "      <th></th>\n",
       "      <th>sender_id</th>\n",
       "      <th>platform</th>\n",
       "      <th>time_stamp</th>\n",
       "      <th>gender</th>\n",
       "      <th>reg_date</th>\n",
       "      <th>group</th>\n",
       "      <th>segment</th>\n",
       "    </tr>\n",
       "  </thead>\n",
       "  <tbody>\n",
       "    <tr>\n",
       "      <th>295310</th>\n",
       "      <td>3217917298</td>\n",
       "      <td>Mobile</td>\n",
       "      <td>2017-03-24 16:00:00</td>\n",
       "      <td>Female</td>\n",
       "      <td>19.03.2017</td>\n",
       "      <td>Base</td>\n",
       "      <td>Mobile Female</td>\n",
       "    </tr>\n",
       "    <tr>\n",
       "      <th>558717</th>\n",
       "      <td>3205198691</td>\n",
       "      <td>Mobile</td>\n",
       "      <td>2017-03-24 16:00:00</td>\n",
       "      <td>Male</td>\n",
       "      <td>15.01.2017</td>\n",
       "      <td>Test</td>\n",
       "      <td>Mobile Male</td>\n",
       "    </tr>\n",
       "    <tr>\n",
       "      <th>558724</th>\n",
       "      <td>3205198691</td>\n",
       "      <td>Mobile</td>\n",
       "      <td>2017-03-24 16:00:00</td>\n",
       "      <td>Male</td>\n",
       "      <td>15.01.2017</td>\n",
       "      <td>Test</td>\n",
       "      <td>Mobile Male</td>\n",
       "    </tr>\n",
       "    <tr>\n",
       "      <th>558725</th>\n",
       "      <td>3205198691</td>\n",
       "      <td>Mobile</td>\n",
       "      <td>2017-03-24 16:00:00</td>\n",
       "      <td>Male</td>\n",
       "      <td>15.01.2017</td>\n",
       "      <td>Test</td>\n",
       "      <td>Mobile Male</td>\n",
       "    </tr>\n",
       "    <tr>\n",
       "      <th>198599</th>\n",
       "      <td>3205140908</td>\n",
       "      <td>Desktop</td>\n",
       "      <td>2017-03-24 16:00:00</td>\n",
       "      <td>Male</td>\n",
       "      <td>15.01.2017</td>\n",
       "      <td>Base</td>\n",
       "      <td>Desktop Male</td>\n",
       "    </tr>\n",
       "    <tr>\n",
       "      <th>...</th>\n",
       "      <td>...</td>\n",
       "      <td>...</td>\n",
       "      <td>...</td>\n",
       "      <td>...</td>\n",
       "      <td>...</td>\n",
       "      <td>...</td>\n",
       "      <td>...</td>\n",
       "    </tr>\n",
       "    <tr>\n",
       "      <th>277231</th>\n",
       "      <td>3219303136</td>\n",
       "      <td>Desktop</td>\n",
       "      <td>2017-03-26 23:59:00</td>\n",
       "      <td>Female</td>\n",
       "      <td>26.03.2017</td>\n",
       "      <td>Base</td>\n",
       "      <td>Desktop Female</td>\n",
       "    </tr>\n",
       "    <tr>\n",
       "      <th>277325</th>\n",
       "      <td>3219308377</td>\n",
       "      <td>Mobile</td>\n",
       "      <td>2017-03-26 23:59:00</td>\n",
       "      <td>Male</td>\n",
       "      <td>26.03.2017</td>\n",
       "      <td>Test</td>\n",
       "      <td>Mobile Male</td>\n",
       "    </tr>\n",
       "    <tr>\n",
       "      <th>277313</th>\n",
       "      <td>3219308377</td>\n",
       "      <td>Mobile</td>\n",
       "      <td>2017-03-26 23:59:00</td>\n",
       "      <td>Male</td>\n",
       "      <td>26.03.2017</td>\n",
       "      <td>Test</td>\n",
       "      <td>Mobile Male</td>\n",
       "    </tr>\n",
       "    <tr>\n",
       "      <th>665169</th>\n",
       "      <td>3212514032</td>\n",
       "      <td>Desktop</td>\n",
       "      <td>2017-03-26 23:59:00</td>\n",
       "      <td>Male</td>\n",
       "      <td>19.02.2017</td>\n",
       "      <td>Base</td>\n",
       "      <td>Desktop Male</td>\n",
       "    </tr>\n",
       "    <tr>\n",
       "      <th>704689</th>\n",
       "      <td>3218865261</td>\n",
       "      <td>Desktop</td>\n",
       "      <td>2017-03-27 00:00:00</td>\n",
       "      <td>Female</td>\n",
       "      <td>24.03.2017</td>\n",
       "      <td>Test</td>\n",
       "      <td>Desktop Female</td>\n",
       "    </tr>\n",
       "  </tbody>\n",
       "</table>\n",
       "<p>107569 rows × 7 columns</p>\n",
       "</div>"
      ],
      "text/plain": [
       "         sender_id platform          time_stamp  gender    reg_date group  \\\n",
       "295310  3217917298   Mobile 2017-03-24 16:00:00  Female  19.03.2017  Base   \n",
       "558717  3205198691   Mobile 2017-03-24 16:00:00    Male  15.01.2017  Test   \n",
       "558724  3205198691   Mobile 2017-03-24 16:00:00    Male  15.01.2017  Test   \n",
       "558725  3205198691   Mobile 2017-03-24 16:00:00    Male  15.01.2017  Test   \n",
       "198599  3205140908  Desktop 2017-03-24 16:00:00    Male  15.01.2017  Base   \n",
       "...            ...      ...                 ...     ...         ...   ...   \n",
       "277231  3219303136  Desktop 2017-03-26 23:59:00  Female  26.03.2017  Base   \n",
       "277325  3219308377   Mobile 2017-03-26 23:59:00    Male  26.03.2017  Test   \n",
       "277313  3219308377   Mobile 2017-03-26 23:59:00    Male  26.03.2017  Test   \n",
       "665169  3212514032  Desktop 2017-03-26 23:59:00    Male  19.02.2017  Base   \n",
       "704689  3218865261  Desktop 2017-03-27 00:00:00  Female  24.03.2017  Test   \n",
       "\n",
       "               segment  \n",
       "295310   Mobile Female  \n",
       "558717     Mobile Male  \n",
       "558724     Mobile Male  \n",
       "558725     Mobile Male  \n",
       "198599    Desktop Male  \n",
       "...                ...  \n",
       "277231  Desktop Female  \n",
       "277325     Mobile Male  \n",
       "277313     Mobile Male  \n",
       "665169    Desktop Male  \n",
       "704689  Desktop Female  \n",
       "\n",
       "[107569 rows x 7 columns]"
      ]
     },
     "execution_count": 411,
     "metadata": {},
     "output_type": "execute_result"
    }
   ],
   "source": [
    "ds"
   ]
  },
  {
   "cell_type": "code",
   "execution_count": 412,
   "id": "565b7183",
   "metadata": {},
   "outputs": [],
   "source": [
    "# Створюємо колонку logs_amount — кількість лайків, зроблена користувачем\n",
    "ds['logs_amount'] = ds.groupby(['sender_id'])['time_stamp'].transform('count')"
   ]
  },
  {
   "cell_type": "markdown",
   "id": "a7d3b4e7",
   "metadata": {},
   "source": [
    "#### Експортуємо датасет для подальшої візуалізації у Tableau"
   ]
  },
  {
   "cell_type": "code",
   "execution_count": 413,
   "id": "add5193e",
   "metadata": {},
   "outputs": [],
   "source": [
    "ds.to_csv('ds.csv')"
   ]
  },
  {
   "cell_type": "markdown",
   "id": "10fb597d",
   "metadata": {},
   "source": [
    "#### Графік розподілу у Tableau показав, що розподіл кількості лайків до кількості юзерів, що їх здійснили, розподіляється за розподілом Пуассона, що має велику кількість ступенів свободи (degrees of freedom).  \n",
    "(тут було багато слова \"розподіл\", так було потрібно...)\n",
    "\n",
    "#### Для аналізу середніх двох вибірок застосуємо t-критерій Ст'юдента, використовуючи Two sample test."
   ]
  },
  {
   "cell_type": "code",
   "execution_count": 414,
   "id": "2ff8c818",
   "metadata": {},
   "outputs": [],
   "source": [
    "ds1 = ds.copy()"
   ]
  },
  {
   "cell_type": "code",
   "execution_count": 415,
   "id": "7e92aca0",
   "metadata": {},
   "outputs": [],
   "source": [
    "ds1 = ds1.drop_duplicates('sender_id', keep='first') # Залишаємо в датасеті тільки унікальні sender_id"
   ]
  },
  {
   "cell_type": "code",
   "execution_count": 416,
   "id": "015ed584",
   "metadata": {},
   "outputs": [
    {
     "data": {
      "text/html": [
       "<div>\n",
       "<style scoped>\n",
       "    .dataframe tbody tr th:only-of-type {\n",
       "        vertical-align: middle;\n",
       "    }\n",
       "\n",
       "    .dataframe tbody tr th {\n",
       "        vertical-align: top;\n",
       "    }\n",
       "\n",
       "    .dataframe thead th {\n",
       "        text-align: right;\n",
       "    }\n",
       "</style>\n",
       "<table border=\"1\" class=\"dataframe\">\n",
       "  <thead>\n",
       "    <tr style=\"text-align: right;\">\n",
       "      <th></th>\n",
       "      <th>sender_id</th>\n",
       "      <th>platform</th>\n",
       "      <th>time_stamp</th>\n",
       "      <th>gender</th>\n",
       "      <th>reg_date</th>\n",
       "      <th>group</th>\n",
       "      <th>segment</th>\n",
       "      <th>logs_amount</th>\n",
       "    </tr>\n",
       "  </thead>\n",
       "  <tbody>\n",
       "    <tr>\n",
       "      <th>295310</th>\n",
       "      <td>3217917298</td>\n",
       "      <td>Mobile</td>\n",
       "      <td>2017-03-24 16:00:00</td>\n",
       "      <td>Female</td>\n",
       "      <td>19.03.2017</td>\n",
       "      <td>Base</td>\n",
       "      <td>Mobile Female</td>\n",
       "      <td>2</td>\n",
       "    </tr>\n",
       "    <tr>\n",
       "      <th>558717</th>\n",
       "      <td>3205198691</td>\n",
       "      <td>Mobile</td>\n",
       "      <td>2017-03-24 16:00:00</td>\n",
       "      <td>Male</td>\n",
       "      <td>15.01.2017</td>\n",
       "      <td>Test</td>\n",
       "      <td>Mobile Male</td>\n",
       "      <td>11</td>\n",
       "    </tr>\n",
       "    <tr>\n",
       "      <th>198599</th>\n",
       "      <td>3205140908</td>\n",
       "      <td>Desktop</td>\n",
       "      <td>2017-03-24 16:00:00</td>\n",
       "      <td>Male</td>\n",
       "      <td>15.01.2017</td>\n",
       "      <td>Base</td>\n",
       "      <td>Desktop Male</td>\n",
       "      <td>33</td>\n",
       "    </tr>\n",
       "    <tr>\n",
       "      <th>558760</th>\n",
       "      <td>3205486416</td>\n",
       "      <td>Desktop</td>\n",
       "      <td>2017-03-24 16:00:00</td>\n",
       "      <td>Male</td>\n",
       "      <td>17.01.2017</td>\n",
       "      <td>Base</td>\n",
       "      <td>Desktop Male</td>\n",
       "      <td>69</td>\n",
       "    </tr>\n",
       "    <tr>\n",
       "      <th>662671</th>\n",
       "      <td>3218607720</td>\n",
       "      <td>Mobile</td>\n",
       "      <td>2017-03-24 16:00:00</td>\n",
       "      <td>Male</td>\n",
       "      <td>23.03.2017</td>\n",
       "      <td>Base</td>\n",
       "      <td>Mobile Male</td>\n",
       "      <td>9</td>\n",
       "    </tr>\n",
       "    <tr>\n",
       "      <th>...</th>\n",
       "      <td>...</td>\n",
       "      <td>...</td>\n",
       "      <td>...</td>\n",
       "      <td>...</td>\n",
       "      <td>...</td>\n",
       "      <td>...</td>\n",
       "      <td>...</td>\n",
       "      <td>...</td>\n",
       "    </tr>\n",
       "    <tr>\n",
       "      <th>708635</th>\n",
       "      <td>3219310953</td>\n",
       "      <td>Mobile</td>\n",
       "      <td>2017-03-26 23:55:00</td>\n",
       "      <td>Female</td>\n",
       "      <td>26.03.2017</td>\n",
       "      <td>Test</td>\n",
       "      <td>Mobile Female</td>\n",
       "      <td>5</td>\n",
       "    </tr>\n",
       "    <tr>\n",
       "      <th>708631</th>\n",
       "      <td>3219310125</td>\n",
       "      <td>Mobile</td>\n",
       "      <td>2017-03-26 23:56:00</td>\n",
       "      <td>Male</td>\n",
       "      <td>26.03.2017</td>\n",
       "      <td>Test</td>\n",
       "      <td>Mobile Male</td>\n",
       "      <td>4</td>\n",
       "    </tr>\n",
       "    <tr>\n",
       "      <th>708629</th>\n",
       "      <td>3219309969</td>\n",
       "      <td>Mobile</td>\n",
       "      <td>2017-03-26 23:57:00</td>\n",
       "      <td>Female</td>\n",
       "      <td>26.03.2017</td>\n",
       "      <td>Test</td>\n",
       "      <td>Mobile Female</td>\n",
       "      <td>8</td>\n",
       "    </tr>\n",
       "    <tr>\n",
       "      <th>246247</th>\n",
       "      <td>3216583745</td>\n",
       "      <td>Mobile</td>\n",
       "      <td>2017-03-26 23:57:00</td>\n",
       "      <td>Female</td>\n",
       "      <td>12.03.2017</td>\n",
       "      <td>Test</td>\n",
       "      <td>Mobile Female</td>\n",
       "      <td>1</td>\n",
       "    </tr>\n",
       "    <tr>\n",
       "      <th>703448</th>\n",
       "      <td>3215453214</td>\n",
       "      <td>Desktop</td>\n",
       "      <td>2017-03-26 23:59:00</td>\n",
       "      <td>Female</td>\n",
       "      <td>06.03.2017</td>\n",
       "      <td>Base</td>\n",
       "      <td>Desktop Female</td>\n",
       "      <td>1</td>\n",
       "    </tr>\n",
       "  </tbody>\n",
       "</table>\n",
       "<p>7331 rows × 8 columns</p>\n",
       "</div>"
      ],
      "text/plain": [
       "         sender_id platform          time_stamp  gender    reg_date group  \\\n",
       "295310  3217917298   Mobile 2017-03-24 16:00:00  Female  19.03.2017  Base   \n",
       "558717  3205198691   Mobile 2017-03-24 16:00:00    Male  15.01.2017  Test   \n",
       "198599  3205140908  Desktop 2017-03-24 16:00:00    Male  15.01.2017  Base   \n",
       "558760  3205486416  Desktop 2017-03-24 16:00:00    Male  17.01.2017  Base   \n",
       "662671  3218607720   Mobile 2017-03-24 16:00:00    Male  23.03.2017  Base   \n",
       "...            ...      ...                 ...     ...         ...   ...   \n",
       "708635  3219310953   Mobile 2017-03-26 23:55:00  Female  26.03.2017  Test   \n",
       "708631  3219310125   Mobile 2017-03-26 23:56:00    Male  26.03.2017  Test   \n",
       "708629  3219309969   Mobile 2017-03-26 23:57:00  Female  26.03.2017  Test   \n",
       "246247  3216583745   Mobile 2017-03-26 23:57:00  Female  12.03.2017  Test   \n",
       "703448  3215453214  Desktop 2017-03-26 23:59:00  Female  06.03.2017  Base   \n",
       "\n",
       "               segment  logs_amount  \n",
       "295310   Mobile Female            2  \n",
       "558717     Mobile Male           11  \n",
       "198599    Desktop Male           33  \n",
       "558760    Desktop Male           69  \n",
       "662671     Mobile Male            9  \n",
       "...                ...          ...  \n",
       "708635   Mobile Female            5  \n",
       "708631     Mobile Male            4  \n",
       "708629   Mobile Female            8  \n",
       "246247   Mobile Female            1  \n",
       "703448  Desktop Female            1  \n",
       "\n",
       "[7331 rows x 8 columns]"
      ]
     },
     "execution_count": 416,
     "metadata": {},
     "output_type": "execute_result"
    }
   ],
   "source": [
    "ds1"
   ]
  },
  {
   "cell_type": "code",
   "execution_count": 250,
   "id": "087068fd",
   "metadata": {},
   "outputs": [
    {
     "data": {
      "text/html": [
       "<div>\n",
       "<style scoped>\n",
       "    .dataframe tbody tr th:only-of-type {\n",
       "        vertical-align: middle;\n",
       "    }\n",
       "\n",
       "    .dataframe tbody tr th {\n",
       "        vertical-align: top;\n",
       "    }\n",
       "\n",
       "    .dataframe thead th {\n",
       "        text-align: right;\n",
       "    }\n",
       "</style>\n",
       "<table border=\"1\" class=\"dataframe\">\n",
       "  <thead>\n",
       "    <tr style=\"text-align: right;\">\n",
       "      <th>group</th>\n",
       "      <th>Base</th>\n",
       "      <th>Test</th>\n",
       "    </tr>\n",
       "    <tr>\n",
       "      <th>segment</th>\n",
       "      <th></th>\n",
       "      <th></th>\n",
       "    </tr>\n",
       "  </thead>\n",
       "  <tbody>\n",
       "    <tr>\n",
       "      <th>Desktop Female</th>\n",
       "      <td>10.601036</td>\n",
       "      <td>11.345404</td>\n",
       "    </tr>\n",
       "    <tr>\n",
       "      <th>Desktop Male</th>\n",
       "      <td>19.582756</td>\n",
       "      <td>18.400631</td>\n",
       "    </tr>\n",
       "    <tr>\n",
       "      <th>Mobile Female</th>\n",
       "      <td>6.353191</td>\n",
       "      <td>6.650575</td>\n",
       "    </tr>\n",
       "    <tr>\n",
       "      <th>Mobile Male</th>\n",
       "      <td>15.984723</td>\n",
       "      <td>12.730395</td>\n",
       "    </tr>\n",
       "  </tbody>\n",
       "</table>\n",
       "</div>"
      ],
      "text/plain": [
       "group                Base       Test\n",
       "segment                             \n",
       "Desktop Female  10.601036  11.345404\n",
       "Desktop Male    19.582756  18.400631\n",
       "Mobile Female    6.353191   6.650575\n",
       "Mobile Male     15.984723  12.730395"
      ]
     },
     "execution_count": 250,
     "metadata": {},
     "output_type": "execute_result"
    }
   ],
   "source": [
    "ds1.pivot_table(index='segment', columns='group', values='logs_amount', aggfunc='mean')"
   ]
  },
  {
   "cell_type": "code",
   "execution_count": null,
   "id": "05d24e3e",
   "metadata": {},
   "outputs": [],
   "source": [
    "ds1.pivot_table(index='segment', columns='group', values='logs_amount', aggfunc='mean')"
   ]
  },
  {
   "cell_type": "code",
   "execution_count": 395,
   "id": "995638da",
   "metadata": {},
   "outputs": [
    {
     "data": {
      "text/html": [
       "<div>\n",
       "<style scoped>\n",
       "    .dataframe tbody tr th:only-of-type {\n",
       "        vertical-align: middle;\n",
       "    }\n",
       "\n",
       "    .dataframe tbody tr th {\n",
       "        vertical-align: top;\n",
       "    }\n",
       "\n",
       "    .dataframe thead tr th {\n",
       "        text-align: left;\n",
       "    }\n",
       "\n",
       "    .dataframe thead tr:last-of-type th {\n",
       "        text-align: right;\n",
       "    }\n",
       "</style>\n",
       "<table border=\"1\" class=\"dataframe\">\n",
       "  <thead>\n",
       "    <tr>\n",
       "      <th></th>\n",
       "      <th colspan=\"2\" halign=\"left\">sum</th>\n",
       "      <th colspan=\"2\" halign=\"left\">mean</th>\n",
       "      <th colspan=\"2\" halign=\"left\">std</th>\n",
       "    </tr>\n",
       "    <tr>\n",
       "      <th>group</th>\n",
       "      <th>Base</th>\n",
       "      <th>Test</th>\n",
       "      <th>Base</th>\n",
       "      <th>Test</th>\n",
       "      <th>Base</th>\n",
       "      <th>Test</th>\n",
       "    </tr>\n",
       "    <tr>\n",
       "      <th>segment</th>\n",
       "      <th></th>\n",
       "      <th></th>\n",
       "      <th></th>\n",
       "      <th></th>\n",
       "      <th></th>\n",
       "      <th></th>\n",
       "    </tr>\n",
       "  </thead>\n",
       "  <tbody>\n",
       "    <tr>\n",
       "      <th>Desktop Female</th>\n",
       "      <td>4092</td>\n",
       "      <td>4073</td>\n",
       "      <td>10.601036</td>\n",
       "      <td>11.345404</td>\n",
       "      <td>20.113093</td>\n",
       "      <td>22.031793</td>\n",
       "    </tr>\n",
       "    <tr>\n",
       "      <th>Desktop Male</th>\n",
       "      <td>25438</td>\n",
       "      <td>23332</td>\n",
       "      <td>19.582756</td>\n",
       "      <td>18.400631</td>\n",
       "      <td>37.506033</td>\n",
       "      <td>29.160017</td>\n",
       "    </tr>\n",
       "    <tr>\n",
       "      <th>Mobile Female</th>\n",
       "      <td>2986</td>\n",
       "      <td>2893</td>\n",
       "      <td>6.353191</td>\n",
       "      <td>6.650575</td>\n",
       "      <td>10.736361</td>\n",
       "      <td>10.352863</td>\n",
       "    </tr>\n",
       "    <tr>\n",
       "      <th>Mobile Male</th>\n",
       "      <td>25112</td>\n",
       "      <td>19643</td>\n",
       "      <td>15.984723</td>\n",
       "      <td>12.730395</td>\n",
       "      <td>58.452396</td>\n",
       "      <td>27.187606</td>\n",
       "    </tr>\n",
       "  </tbody>\n",
       "</table>\n",
       "</div>"
      ],
      "text/plain": [
       "                  sum              mean                   std           \n",
       "group            Base   Test       Base       Test       Base       Test\n",
       "segment                                                                 \n",
       "Desktop Female   4092   4073  10.601036  11.345404  20.113093  22.031793\n",
       "Desktop Male    25438  23332  19.582756  18.400631  37.506033  29.160017\n",
       "Mobile Female    2986   2893   6.353191   6.650575  10.736361  10.352863\n",
       "Mobile Male     25112  19643  15.984723  12.730395  58.452396  27.187606"
      ]
     },
     "execution_count": 395,
     "metadata": {},
     "output_type": "execute_result"
    }
   ],
   "source": [
    "ds1.pivot_table(index='segment', columns='group', values='logs_amount', aggfunc=['sum', 'mean', 'std'])"
   ]
  },
  {
   "cell_type": "markdown",
   "id": "31a97b2b",
   "metadata": {},
   "source": [
    "#### Розрахуємо Standart Deviation, Average та розмір базової та тестової вибірок"
   ]
  },
  {
   "cell_type": "code",
   "execution_count": 426,
   "id": "8671382f",
   "metadata": {},
   "outputs": [],
   "source": [
    "ds_sample_size = ds1.groupby('group', as_index=False).agg({'logs_amount': 'count'}).rename(columns={'logs_amount': 'sample_size'})\n",
    "test1\n",
    "ds_sample_mean = ds1.groupby('group', as_index=False).agg({'logs_amount': 'mean'}).rename(columns={'logs_amount': 'mean'})\n",
    "ds_sample_std = ds1.groupby('group', as_index=False).agg({'logs_amount': 'std'}).rename(columns={'logs_amount': 'std'})"
   ]
  },
  {
   "cell_type": "code",
   "execution_count": 427,
   "id": "decfbeca",
   "metadata": {},
   "outputs": [],
   "source": [
    "ds_descriptive = ds_sample_size.merge(ds_sample_mean, on='group').merge(ds_sample_std, on='group')\n",
    "ds_descriptive"
   ]
  },
  {
   "cell_type": "code",
   "execution_count": 428,
   "id": "09b4e1e9",
   "metadata": {},
   "outputs": [
    {
     "data": {
      "text/html": [
       "<div>\n",
       "<style scoped>\n",
       "    .dataframe tbody tr th:only-of-type {\n",
       "        vertical-align: middle;\n",
       "    }\n",
       "\n",
       "    .dataframe tbody tr th {\n",
       "        vertical-align: top;\n",
       "    }\n",
       "\n",
       "    .dataframe thead th {\n",
       "        text-align: right;\n",
       "    }\n",
       "</style>\n",
       "<table border=\"1\" class=\"dataframe\">\n",
       "  <thead>\n",
       "    <tr style=\"text-align: right;\">\n",
       "      <th></th>\n",
       "      <th>group</th>\n",
       "      <th>sample_size</th>\n",
       "      <th>mean</th>\n",
       "      <th>std</th>\n",
       "    </tr>\n",
       "  </thead>\n",
       "  <tbody>\n",
       "    <tr>\n",
       "      <th>0</th>\n",
       "      <td>Base</td>\n",
       "      <td>3726</td>\n",
       "      <td>15.466452</td>\n",
       "      <td>44.782857</td>\n",
       "    </tr>\n",
       "    <tr>\n",
       "      <th>1</th>\n",
       "      <td>Test</td>\n",
       "      <td>3605</td>\n",
       "      <td>13.853259</td>\n",
       "      <td>26.287139</td>\n",
       "    </tr>\n",
       "  </tbody>\n",
       "</table>\n",
       "</div>"
      ],
      "text/plain": [
       "  group  sample_size       mean        std\n",
       "0  Base         3726  15.466452  44.782857\n",
       "1  Test         3605  13.853259  26.287139"
      ]
     },
     "execution_count": 428,
     "metadata": {},
     "output_type": "execute_result"
    }
   ],
   "source": [
    "ds_descriptive"
   ]
  },
  {
   "cell_type": "markdown",
   "id": "e8bad33c",
   "metadata": {},
   "source": [
    "#### Висуваємо гіпотезу, що поведінка користувачів із запровадженням нової версії не змінилась\n",
    "Н0: μ_base = μ_test\n",
    "\n",
    "H1: μ_base != μ_test"
   ]
  },
  {
   "cell_type": "markdown",
   "id": "de67c615",
   "metadata": {},
   "source": [
    "#### Перетворюємо на numpy-масив вибірку з тестової та базової групи спліт-тестування:"
   ]
  },
  {
   "cell_type": "code",
   "execution_count": 431,
   "id": "8fe87192",
   "metadata": {},
   "outputs": [],
   "source": [
    "sample_base = ds1[ds1['group'] == 'Base']['logs_amount'].to_numpy()\n",
    "sample_test = ds1[ds1['group'] == 'Test']['logs_amount'].to_numpy()"
   ]
  },
  {
   "cell_type": "markdown",
   "id": "88828a7a",
   "metadata": {},
   "source": [
    "#### Розраховуємо t-критерій та відповідний йому p-value:"
   ]
  },
  {
   "cell_type": "code",
   "execution_count": 432,
   "id": "75f4cb36",
   "metadata": {},
   "outputs": [
    {
     "data": {
      "text/plain": [
       "Ttest_indResult(statistic=1.888192331064846, pvalue=0.05904788688607345)"
      ]
     },
     "execution_count": 432,
     "metadata": {},
     "output_type": "execute_result"
    }
   ],
   "source": [
    "st.ttest_ind(a=sample_1, b=sample_2, equal_var=False)"
   ]
  },
  {
   "cell_type": "markdown",
   "id": "a188ac59",
   "metadata": {},
   "source": [
    "#### Отримали p-рівень значущості = 0.059, що не дозволяє нам відхилити нульову гіпотезу\n",
    "На графіку, що ми отримали у Tableau, порівнюючи середні вибірок та співставляюxи довірчі інтервали, бачимо, що середнє генеральної сукупності базової групи з 95% ймовірністю знаходиться в проміжку \\[14.028:16.904\\], а середнє генеральної сукупності тестової версії у проміжку \\[12.995:14.711\\]."
   ]
  },
  {
   "cell_type": "code",
   "execution_count": 276,
   "id": "433e2b8a",
   "metadata": {},
   "outputs": [],
   "source": [
    "ds1.to_csv('ds1.csv')"
   ]
  }
 ],
 "metadata": {
  "kernelspec": {
   "display_name": "Python 3",
   "language": "python",
   "name": "python3"
  },
  "language_info": {
   "codemirror_mode": {
    "name": "ipython",
    "version": 3
   },
   "file_extension": ".py",
   "mimetype": "text/x-python",
   "name": "python",
   "nbconvert_exporter": "python",
   "pygments_lexer": "ipython3",
   "version": "3.8.8"
  }
 },
 "nbformat": 4,
 "nbformat_minor": 5
}
