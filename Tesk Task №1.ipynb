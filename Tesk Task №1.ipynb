{
 "cells": [
  {
   "cell_type": "markdown",
   "id": "38c61499",
   "metadata": {},
   "source": [
    "# Query #1"
   ]
  },
  {
   "cell_type": "markdown",
   "id": "3401607d",
   "metadata": {},
   "source": [
    "``` mysql\n",
    "SELECT\n",
    "  o.service_id,\n",
    "  o.user_segment,\n",
    "  pd.fuel_id,\n",
    "  COUNT(o.order_id) AS total_orders,\n",
    "  COUNT(p.payment_item_id) AS total_payments,\n",
    "  CAST(COUNT(p.payment_item_id) AS UNSIGNED) / COUNT(o.order_id) AS conversion,\n",
    "  COALESCE(SUM(p.amount), 0) / (NULLIF(COUNT(DISTINCT o.order_id), 0)) AS ARPO\n",
    "FROM\n",
    "  orders o\n",
    "  LEFT JOIN payments p ON o.order_id = p.order_id\n",
    "  INNER JOIN proposal_detail pd ON o.proposal_id = pd.proposal_id\n",
    "WHERE\n",
    "  o.created_at >= (CURRENT_DATE - INTERVAL 30 DAY)\n",
    "GROUP BY\n",
    "  o.service_id, o.user_segment, pd.fuel_id;\n",
    "```"
   ]
  },
  {
   "cell_type": "markdown",
   "id": "83a3e715",
   "metadata": {},
   "source": [
    "## Query #2"
   ]
  },
  {
   "cell_type": "markdown",
   "id": "4d8970bc",
   "metadata": {},
   "source": [
    "``` mysql\n",
    "SELECT\n",
    "    o.user_id,\n",
    "    SUM(p.amount) AS total_revenue\n",
    "FROM\n",
    "    orders o\n",
    "JOIN\n",
    "    payments p ON o.order_id = p.order_id\n",
    "WHERE\n",
    "    o.created_at >= CURDATE() - INTERVAL 30 DAY\n",
    "GROUP BY\n",
    "    o.user_id\n",
    "ORDER BY\n",
    "    total_revenue DESC\n",
    "LIMIT 10;\n",
    "```"
   ]
  },
  {
   "cell_type": "markdown",
   "id": "1a174767",
   "metadata": {},
   "source": [
    "## Query #3"
   ]
  },
  {
   "cell_type": "markdown",
   "id": "655940d5",
   "metadata": {},
   "source": [
    "``` mysql\n",
    "WITH ConversionRates AS (\n",
    "  SELECT\n",
    "    pd.state_id,\n",
    "    pd.transport_type_id,\n",
    "    COUNT(p.payment_item_id) / COUNT(o.order_id) AS conversion_rate,\n",
    "    ROW_NUMBER() OVER (PARTITION BY pd.state_id ORDER BY COUNT(p.payment_item_id) / COUNT(o.order_id) DESC) AS rn\n",
    "  FROM\n",
    "    proposal_detail pd\n",
    "  JOIN\n",
    "    orders o ON pd.proposal_id = o.proposal_id\n",
    "  LEFT JOIN\n",
    "    payments p ON o.order_id = p.order_id AND p.created_at BETWEEN o.created_at AND o.created_at + INTERVAL 30 DAY\n",
    "  WHERE\n",
    "    o.created_at >= CURDATE() - INTERVAL 30 DAY\n",
    "  GROUP BY\n",
    "    pd.state_id, pd.transport_type_id\n",
    ")\n",
    "SELECT\n",
    "  state_id,\n",
    "  transport_type_id,\n",
    "  conversion_rate\n",
    "FROM\n",
    "  ConversionRates\n",
    "WHERE\n",
    "  rn = 1;\n",
    "\n",
    "```"
   ]
  },
  {
   "cell_type": "markdown",
   "id": "83fabe29",
   "metadata": {},
   "source": [
    "## Query #4"
   ]
  },
  {
   "cell_type": "markdown",
   "id": "3df7798d",
   "metadata": {},
   "source": [
    "``` mysql\n",
    "WITH MarkaSum AS (\n",
    "    SELECT\n",
    "        pd.state_id,\n",
    "        mm.marka,\n",
    "        SUM(p.amount) AS total_amount\n",
    "    FROM\n",
    "        payments p\n",
    "    JOIN\n",
    "        orders o ON p.order_id = o.order_id\n",
    "    JOIN\n",
    "        proposal_detail pd ON o.proposal_id = pd.proposal_id\n",
    "    JOIN\n",
    "        marksModels mm ON pd.proposal_id = mm.proposal_id\n",
    "    GROUP BY\n",
    "        pd.state_id, mm.marka\n",
    "),\n",
    "RankedMarka AS (\n",
    "    SELECT\n",
    "        state_id,\n",
    "        marka,\n",
    "        total_amount,\n",
    "        RANK() OVER (PARTITION BY state_id ORDER BY total_amount DESC) AS rank_marka\n",
    "    FROM\n",
    "        MarkaSum\n",
    "),\n",
    "TopModels AS (\n",
    "    SELECT\n",
    "        pd.state_id,\n",
    "        mm.marka,\n",
    "        mm.model,\n",
    "        SUM(p.amount) AS model_amount,\n",
    "        RANK() OVER (PARTITION BY pd.state_id, mm.marka ORDER BY SUM(p.amount) DESC) AS model_rank\n",
    "    FROM\n",
    "        payments p\n",
    "    JOIN\n",
    "        orders o ON p.order_id = o.order_id\n",
    "    JOIN\n",
    "        proposal_detail pd ON o.proposal_id = pd.proposal_id\n",
    "    JOIN\n",
    "        marksModels mm ON pd.proposal_id = mm.proposal_id\n",
    "    GROUP BY\n",
    "        pd.state_id, mm.marka, mm.model\n",
    ")\n",
    "SELECT\n",
    "    tm.state_id,\n",
    "    tm.marka,\n",
    "    tm.model,\n",
    "    tm.model_amount\n",
    "FROM\n",
    "    TopModels tm\n",
    "JOIN\n",
    "    RankedMarka rm ON tm.state_id = rm.state_id AND tm.marka = rm.marka\n",
    "WHERE\n",
    "    rm.rank_marka = 1 AND tm.model_rank <= 3\n",
    "ORDER BY\n",
    "    tm.state_id, tm.marka, tm.model_rank;\n",
    "\n",
    "```"
   ]
  },
  {
   "cell_type": "code",
   "execution_count": null,
   "id": "bce4e309",
   "metadata": {},
   "outputs": [],
   "source": []
  }
 ],
 "metadata": {
  "kernelspec": {
   "display_name": "Python 3 (ipykernel)",
   "language": "python",
   "name": "python3"
  },
  "language_info": {
   "codemirror_mode": {
    "name": "ipython",
    "version": 3
   },
   "file_extension": ".py",
   "mimetype": "text/x-python",
   "name": "python",
   "nbconvert_exporter": "python",
   "pygments_lexer": "ipython3",
   "version": "3.9.13"
  }
 },
 "nbformat": 4,
 "nbformat_minor": 5
}
